{
 "cells": [
  {
   "cell_type": "markdown",
   "id": "3652aa29",
   "metadata": {},
   "source": [
    "## 1. Required Module :"
   ]
  },
  {
   "cell_type": "code",
   "execution_count": 1,
   "id": "64de8190",
   "metadata": {},
   "outputs": [
    {
     "name": "stdout",
     "output_type": "stream",
     "text": [
      "Requirement already satisfied: pytube in c:\\users\\shankar karande\\anaconda3\\lib\\site-packages (12.0.0)\n",
      "Note: you may need to restart the kernel to use updated packages.\n"
     ]
    }
   ],
   "source": [
    "pip install pytube"
   ]
  },
  {
   "cell_type": "markdown",
   "id": "475df3a4",
   "metadata": {},
   "source": [
    "## 2. Get Video Meta Data :"
   ]
  },
  {
   "cell_type": "code",
   "execution_count": 2,
   "id": "0e6a0e60",
   "metadata": {},
   "outputs": [
    {
     "name": "stdout",
     "output_type": "stream",
     "text": [
      "Title:  The Chainsmokers & Coldplay - Something Just Like This (cover by COLOR MUSIC Choir)\n",
      "Total Length :  154 Seconds\n",
      "Total Views :  65925883\n",
      "Is Age Restricted :  False\n",
      "Thumbnail Url :  https://i.ytimg.com/vi/2LBBaD1aQuw/sddefault.jpg\n"
     ]
    }
   ],
   "source": [
    "from pytube import YouTube\n",
    "#function Takes Youtube object as Argument.\n",
    "def video_Info(yt):\n",
    "    print(\"Title: \" , yt.title)\n",
    "    print(\"Total Length : \", yt.length,\"Seconds\")\n",
    "    print(\"Total Views : \" , yt.views)\n",
    "    print(\"Is Age Restricted : \" , yt.age_restricted)\n",
    "    print(\"Thumbnail Url : \",yt.thumbnail_url)\n",
    "#     print(\"Video Rating : \", str(round(yt.rating)))\n",
    "    \n",
    "link = \"https://www.youtube.com/watch?v=2LBBaD1aQuw\"\n",
    "yt = YouTube(link) # Create Youtube Object..\n",
    "\n",
    "# call the function\n",
    "video_Info(yt)"
   ]
  },
  {
   "cell_type": "markdown",
   "id": "37bec5d8",
   "metadata": {},
   "source": [
    "## 3. Download YouTube video in mp4 Format :"
   ]
  },
  {
   "cell_type": "code",
   "execution_count": 4,
   "id": "5b46c4e4",
   "metadata": {},
   "outputs": [
    {
     "name": "stdout",
     "output_type": "stream",
     "text": [
      "Video itag :137 Resolution : 1080p\n",
      "Video itag :399 Resolution : 1080p\n",
      "Video itag :136 Resolution : 720p\n",
      "Video itag :398 Resolution : 720p\n",
      "Video itag :135 Resolution : 480p\n",
      "Video itag :397 Resolution : 480p\n",
      "Video itag :134 Resolution : 360p\n",
      "Video itag :396 Resolution : 360p\n",
      "Video itag :133 Resolution : 240p\n",
      "Video itag :395 Resolution : 240p\n",
      "Video itag :160 Resolution : 144p\n",
      "Video itag :394 Resolution : 144p\n",
      "Enter itag Value : 394\n",
      "Video is Downloading as The Chainsmokers & Coldplay - Something Just Like This (cover by COLOR MUSIC Choir).mp4\n"
     ]
    }
   ],
   "source": [
    "from pytube import YouTube\n",
    "def download_video(yt):\n",
    "    \n",
    "    #Filter mp4 streams from object...\n",
    "    \n",
    "    my_streams = yt.streams.filter(file_extension = 'mp4' , only_video = True)\n",
    "    for streams in my_streams:\n",
    "        \n",
    "        #print itag,resolution and codec format of mp4 streams\n",
    "        \n",
    "        print(f\"Video itag :{streams.itag} Resolution : {streams.resolution}\")\n",
    "        \n",
    "        # Enter the itag value of resolution on which you want to download the video...\n",
    "    input_itag = input(\"Enter itag Value : \")\n",
    "    \n",
    "    # get video using itag vale...\n",
    "    video = yt.streams.get_by_itag(input_itag)\n",
    "    \n",
    "    # Finally download the YouTube Video...\n",
    "    video.download()\n",
    "    print(\"Video is Downloading as\", yt.title+\".mp4\")\n",
    "    \n",
    "link = \"https://www.youtube.com/watch?v=2LBBaD1aQuw\"\n",
    "# Create YouTube Object.\n",
    "yt = YouTube(link)\n",
    "#call the function.\n",
    "download_video(yt)"
   ]
  },
  {
   "cell_type": "markdown",
   "id": "306ec618",
   "metadata": {},
   "source": [
    "## 4.Download YouTube video in Audio Format."
   ]
  },
  {
   "cell_type": "code",
   "execution_count": 6,
   "id": "e97b0459",
   "metadata": {},
   "outputs": [
    {
     "name": "stdout",
     "output_type": "stream",
     "text": [
      "Audio itag : 139 Qulity:48kbps\n",
      "Audio itag : 140 Qulity:128kbps\n",
      "Audio itag : 249 Qulity:50kbps\n",
      "Audio itag : 250 Qulity:70kbps\n",
      "Audio itag : 251 Qulity:160kbps\n",
      "Enter itag Value : 251\n",
      "Audio is Downloading as  The Chainsmokers & Coldplay - Something Just Like This (cover by COLOR MUSIC Choir).mp3\n"
     ]
    }
   ],
   "source": [
    "from pytube import YouTube\n",
    "\n",
    "# Define Function...\n",
    "def download_Audio(yt):\n",
    "    \n",
    "    # Filter all the audio files\n",
    "    my_streams = yt.streams.filter(only_audio = True)\n",
    "    for streams in my_streams:\n",
    "        \n",
    "        # Print audio quality/itag/codec\n",
    "        print(f\"Audio itag : {streams.itag} Qulity:{streams.abr}\")\n",
    "              \n",
    "    input_itag = input(\"Enter itag Value : \")\n",
    "    audio = yt.streams.get_by_itag(input_itag)\n",
    "              \n",
    "    audio.download() # Download the video in audio format...\n",
    "    # audio.download(r\"New path where you want to save the file\")\n",
    "    print(\"Audio is Downloading as\",yt.title+\".mp3\")\n",
    "              \n",
    "link = \"https://www.youtube.com/watch?v=2LBBaD1aQuw\"\n",
    "yt = YouTube(link) # Create object..\n",
    "download_Audio(yt) # Call the function.."
   ]
  },
  {
   "cell_type": "code",
   "execution_count": null,
   "id": "c7bbf03e",
   "metadata": {},
   "outputs": [],
   "source": []
  }
 ],
 "metadata": {
  "kernelspec": {
   "display_name": "Python 3 (ipykernel)",
   "language": "python",
   "name": "python3"
  },
  "language_info": {
   "codemirror_mode": {
    "name": "ipython",
    "version": 3
   },
   "file_extension": ".py",
   "mimetype": "text/x-python",
   "name": "python",
   "nbconvert_exporter": "python",
   "pygments_lexer": "ipython3",
   "version": "3.9.7"
  }
 },
 "nbformat": 4,
 "nbformat_minor": 5
}
