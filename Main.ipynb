{
 "cells": [
  {
   "cell_type": "markdown",
   "id": "3652aa29",
   "metadata": {},
   "source": [
    "## 1. Required Module :"
   ]
  },
  {
   "cell_type": "code",
   "execution_count": null,
   "id": "64de8190",
   "metadata": {},
   "outputs": [],
   "source": [
    "pip install pytube"
   ]
  },
  {
   "cell_type": "markdown",
   "id": "475df3a4",
   "metadata": {},
   "source": [
    "## 2. Get Video Meta Data :"
   ]
  },
  {
   "cell_type": "code",
   "execution_count": null,
   "id": "0e6a0e60",
   "metadata": {},
   "outputs": [],
   "source": [
    "from pytube import YouTube\n",
    "#function Takes Youtube object as Argument.\n",
    "def video_Info(yt):\n",
    "    print(\"Title :\" , yt.title)\n",
    "    print(\"Total Length :\", yt.length,\"Seconds\")\n",
    "    print(\"Total Views :\" , yt.views)\n",
    "    print(\"Is Age Restricted :\" , yt.age_restricted)\n",
    "    print(\"Thumbnail Url :\",yt.thumbnail_url)\n",
    "#     print(\"Video Rating : \", str(round(yt.rating)))\n",
    "    \n",
    "link = \"https://www.youtube.com/watch?v=2LBBaD1aQuw\"\n",
    "yt = YouTube(link) # Create Youtube Object..\n",
    "\n",
    "# call the function\n",
    "video_Info(yt)"
   ]
  },
  {
   "cell_type": "markdown",
   "id": "8459b6e0",
   "metadata": {},
   "source": [
    "## 3. Download YouTube video in mp4 Format :"
   ]
  },
  {
   "cell_type": "code",
   "execution_count": null,
   "id": "99d103f2",
   "metadata": {},
   "outputs": [],
   "source": [
    "from pytube import YouTube\n",
    "def download_video(yt):\n",
    "    \n",
    "    #Filter mp4 streams from object...\n",
    "    \n",
    "    my_streams = yt.streams.filter(file_extension = 'mp4' , only_video = True)\n",
    "    for streams in my_streams:\n",
    "        \n",
    "        #print itag,resolution and codec format of mp4 streams\n",
    "        \n",
    "        print(f\"Video itag :{streams.itag} Resolution : {streams.resolution}\")\n",
    "        \n",
    "        # Enter the itag value of resolution on which you want to download the video...\n",
    "    input_itag = input(\"Enter itag Value : \")\n",
    "    \n",
    "    # get video using itag vale...\n",
    "    video = yt.streams.get_by_itag(input_itag)\n",
    "    \n",
    "    # Finally download the YouTube Video...\n",
    "    video.download()\n",
    "    print(\"Video is Downloading as\", yt.title+\".mp4\")\n",
    "    \n",
    "link = \"https://www.youtube.com/watch?v=2LBBaD1aQuw\"\n",
    "# Create YouTube Object.\n",
    "yt = YouTube(link)\n",
    "#call the function.\n",
    "download_video(yt)"
   ]
  },
  {
   "cell_type": "markdown",
   "id": "4c8cc0db",
   "metadata": {},
   "source": [
    "## 4.Download YouTube video in Audio Format :"
   ]
  },
  {
   "cell_type": "code",
   "execution_count": null,
   "id": "e42d5611",
   "metadata": {},
   "outputs": [],
   "source": [
    "from pytube import YouTube\n",
    "\n",
    "# Define Function...\n",
    "def download_Audio(yt):\n",
    "    \n",
    "    # Filter all the audio files\n",
    "    my_streams = yt.streams.filter(only_audio = True)\n",
    "    for streams in my_streams:\n",
    "        \n",
    "        # Print audio quality/itag/codec\n",
    "        print(f\"Audio itag : {streams.itag} Qulity:{streams.abr}\")\n",
    "              \n",
    "    input_itag = input(\"Enter itag Value : \")\n",
    "    audio = yt.streams.get_by_itag(input_itag)\n",
    "              \n",
    "    audio.download() # Download the video in audio format...\n",
    "    # audio.download(r\"New path where you want to save the file\")\n",
    "    print(\"Audio is Downloading as\",yt.title+\".mp3\")\n",
    "              \n",
    "link = \"https://www.youtube.com/watch?v=2LBBaD1aQuw\"\n",
    "yt = YouTube(link) # Create object..\n",
    "download_Audio(yt) # Call the function.."
   ]
  },
  {
   "cell_type": "markdown",
   "id": "78f8e999",
   "metadata": {},
   "source": [
    "## 5. Download complete YouTube playlist :"
   ]
  },
  {
   "cell_type": "code",
   "execution_count": null,
   "id": "82edd613",
   "metadata": {},
   "outputs": [],
   "source": [
    "from pytube import Playlist \n",
    "\n",
    "def download_playlist(p):\n",
    "    # print playlist Title..\n",
    "    print(p.title)\n",
    "    # get videos of playlist..\n",
    "    for video in p.videos:\n",
    "        try:\n",
    "            #download all videos in best resolution\n",
    "            video.streams.first().download(video.title)\n",
    "        except Exception as e:\n",
    "            print(e,type(e))\n",
    "    print(\"Playlist is Downloaded\")\n",
    "    \n",
    "link = \"https://www.youtube.com/watch?v=WWCsGEarExg\"\n",
    "p = Playlist(link) # Create Playlist object\n",
    "download_playlist(p) # Call the Functions"
   ]
  },
  {
   "cell_type": "code",
   "execution_count": null,
   "id": "95617366",
   "metadata": {},
   "outputs": [],
   "source": []
  }
 ],
 "metadata": {
  "kernelspec": {
   "display_name": "Python 3 (ipykernel)",
   "language": "python",
   "name": "python3"
  },
  "language_info": {
   "codemirror_mode": {
    "name": "ipython",
    "version": 3
   },
   "file_extension": ".py",
   "mimetype": "text/x-python",
   "name": "python",
   "nbconvert_exporter": "python",
   "pygments_lexer": "ipython3",
   "version": "3.9.7"
  }
 },
 "nbformat": 4,
 "nbformat_minor": 5
}
